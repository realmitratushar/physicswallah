{
 "cells": [
  {
   "cell_type": "code",
   "execution_count": 1,
   "id": "bfb7a38b",
   "metadata": {},
   "outputs": [],
   "source": [
    "a=\"Tushar\""
   ]
  },
  {
   "cell_type": "code",
   "execution_count": 2,
   "id": "db61dd40",
   "metadata": {},
   "outputs": [
    {
     "data": {
      "text/plain": [
       "str"
      ]
     },
     "execution_count": 2,
     "metadata": {},
     "output_type": "execute_result"
    }
   ],
   "source": [
    "type(a)"
   ]
  },
  {
   "cell_type": "code",
   "execution_count": 3,
   "id": "178a73b3",
   "metadata": {},
   "outputs": [],
   "source": [
    "b=[2,5,\"Tushar\",56.785]"
   ]
  },
  {
   "cell_type": "code",
   "execution_count": 4,
   "id": "539cb06c",
   "metadata": {},
   "outputs": [
    {
     "data": {
      "text/plain": [
       "list"
      ]
     },
     "execution_count": 4,
     "metadata": {},
     "output_type": "execute_result"
    }
   ],
   "source": [
    "type(b)"
   ]
  },
  {
   "cell_type": "code",
   "execution_count": 5,
   "id": "bc907318",
   "metadata": {},
   "outputs": [],
   "source": [
    "c=89.675"
   ]
  },
  {
   "cell_type": "code",
   "execution_count": 6,
   "id": "2c04ddda",
   "metadata": {},
   "outputs": [
    {
     "data": {
      "text/plain": [
       "float"
      ]
     },
     "execution_count": 6,
     "metadata": {},
     "output_type": "execute_result"
    }
   ],
   "source": [
    "type(c)"
   ]
  },
  {
   "cell_type": "code",
   "execution_count": 7,
   "id": "42c596d0",
   "metadata": {},
   "outputs": [],
   "source": [
    "d=(7,9,\"Mitra\",54.987)"
   ]
  },
  {
   "cell_type": "code",
   "execution_count": 8,
   "id": "c8a80293",
   "metadata": {},
   "outputs": [
    {
     "data": {
      "text/plain": [
       "tuple"
      ]
     },
     "execution_count": 8,
     "metadata": {},
     "output_type": "execute_result"
    }
   ],
   "source": [
    "type(d)"
   ]
  },
  {
   "cell_type": "code",
   "execution_count": 9,
   "id": "60e3f65b",
   "metadata": {},
   "outputs": [],
   "source": [
    "var1=''"
   ]
  },
  {
   "cell_type": "code",
   "execution_count": 10,
   "id": "d703fcee",
   "metadata": {},
   "outputs": [
    {
     "data": {
      "text/plain": [
       "str"
      ]
     },
     "execution_count": 10,
     "metadata": {},
     "output_type": "execute_result"
    }
   ],
   "source": [
    "type(var1)"
   ]
  },
  {
   "cell_type": "code",
   "execution_count": 11,
   "id": "36ea47be",
   "metadata": {},
   "outputs": [],
   "source": [
    "var2='[DS,ML,Python]'"
   ]
  },
  {
   "cell_type": "code",
   "execution_count": 12,
   "id": "44751c5b",
   "metadata": {},
   "outputs": [
    {
     "data": {
      "text/plain": [
       "str"
      ]
     },
     "execution_count": 12,
     "metadata": {},
     "output_type": "execute_result"
    }
   ],
   "source": [
    "type(var2)"
   ]
  },
  {
   "cell_type": "code",
   "execution_count": 13,
   "id": "a0ff86f0",
   "metadata": {},
   "outputs": [],
   "source": [
    "var3=['DS','ML','Python']"
   ]
  },
  {
   "cell_type": "code",
   "execution_count": 14,
   "id": "f7be924c",
   "metadata": {},
   "outputs": [
    {
     "data": {
      "text/plain": [
       "list"
      ]
     },
     "execution_count": 14,
     "metadata": {},
     "output_type": "execute_result"
    }
   ],
   "source": [
    "type(var3)"
   ]
  },
  {
   "cell_type": "code",
   "execution_count": 15,
   "id": "bc62f6df",
   "metadata": {},
   "outputs": [],
   "source": [
    "var4=1"
   ]
  },
  {
   "cell_type": "code",
   "execution_count": 16,
   "id": "d6bdc2de",
   "metadata": {},
   "outputs": [
    {
     "data": {
      "text/plain": [
       "int"
      ]
     },
     "execution_count": 16,
     "metadata": {},
     "output_type": "execute_result"
    }
   ],
   "source": [
    "type(var4)"
   ]
  },
  {
   "cell_type": "code",
   "execution_count": 17,
   "id": "d6d2f1e1",
   "metadata": {},
   "outputs": [
    {
     "data": {
      "text/plain": [
       "2.25"
      ]
     },
     "execution_count": 17,
     "metadata": {},
     "output_type": "execute_result"
    }
   ],
   "source": [
    "9/4\n",
    "# division"
   ]
  },
  {
   "cell_type": "code",
   "execution_count": 18,
   "id": "50cdbaf7",
   "metadata": {},
   "outputs": [
    {
     "data": {
      "text/plain": [
       "1"
      ]
     },
     "execution_count": 18,
     "metadata": {},
     "output_type": "execute_result"
    }
   ],
   "source": [
    "9%4\n",
    "# remainder"
   ]
  },
  {
   "cell_type": "code",
   "execution_count": 19,
   "id": "9de954c8",
   "metadata": {},
   "outputs": [
    {
     "data": {
      "text/plain": [
       "2"
      ]
     },
     "execution_count": 19,
     "metadata": {},
     "output_type": "execute_result"
    }
   ],
   "source": [
    "9//4\n",
    "# floor division"
   ]
  },
  {
   "cell_type": "code",
   "execution_count": 20,
   "id": "222ebe3d",
   "metadata": {},
   "outputs": [
    {
     "data": {
      "text/plain": [
       "6561"
      ]
     },
     "execution_count": 20,
     "metadata": {},
     "output_type": "execute_result"
    }
   ],
   "source": [
    "9**4\n",
    "# exponent"
   ]
  },
  {
   "cell_type": "code",
   "execution_count": 21,
   "id": "63dddfc9",
   "metadata": {},
   "outputs": [],
   "source": [
    "l=[2,5.67,\"Tushar\",25,True,(7+5j),False,(6,\"Mitra\",(8+3j),78.54),76,\"Mitra\"]"
   ]
  },
  {
   "cell_type": "code",
   "execution_count": 23,
   "id": "44b3f448",
   "metadata": {},
   "outputs": [
    {
     "name": "stdout",
     "output_type": "stream",
     "text": [
      "2 <class 'int'>\n",
      "5.67 <class 'float'>\n",
      "Tushar <class 'str'>\n",
      "25 <class 'int'>\n",
      "True <class 'bool'>\n",
      "(7+5j) <class 'complex'>\n",
      "False <class 'bool'>\n",
      "(6, 'Mitra', (8+3j), 78.54) <class 'tuple'>\n",
      "76 <class 'int'>\n",
      "Mitra <class 'str'>\n"
     ]
    }
   ],
   "source": [
    "for i in l:\n",
    "    print(i,type(i))"
   ]
  },
  {
   "cell_type": "code",
   "execution_count": 36,
   "id": "675bf372",
   "metadata": {},
   "outputs": [
    {
     "name": "stdout",
     "output_type": "stream",
     "text": [
      "Enter number A : 25\n",
      "Enter number B : 5\n",
      "25  is completely divisible by  5\n",
      "25 is divisible by 5 in 2 times\n"
     ]
    }
   ],
   "source": [
    "A=int(input(\"Enter number A : \"))\n",
    "B=int(input(\"Enter number B : \"))\n",
    "X=A\n",
    "if(A%B==0):\n",
    "    print(A,\" is completely divisible by \",B)\n",
    "else:\n",
    "    print(A,\" is not completely divisible by \",B)\n",
    "count=0\n",
    "while(A>1):\n",
    "    A=A//B\n",
    "    count+=1\n",
    "print(X,\"is divisible by\",B,\"in\",count,\"times\")\n",
    "        "
   ]
  },
  {
   "cell_type": "code",
   "execution_count": 37,
   "id": "5afbb400",
   "metadata": {},
   "outputs": [],
   "source": [
    "l1=[1,2,3,4,5,6,7,8,9,10,11,12,13,14,15,16,17,18,19,20,21,22,23,24,25]"
   ]
  },
  {
   "cell_type": "code",
   "execution_count": 39,
   "id": "65ecf88e",
   "metadata": {},
   "outputs": [
    {
     "name": "stdout",
     "output_type": "stream",
     "text": [
      "1 not divisible by 3\n",
      "2 not divisible by 3\n",
      "3 divisible by 3\n",
      "4 not divisible by 3\n",
      "5 not divisible by 3\n",
      "6 divisible by 3\n",
      "7 not divisible by 3\n",
      "8 not divisible by 3\n",
      "9 divisible by 3\n",
      "10 not divisible by 3\n",
      "11 not divisible by 3\n",
      "12 divisible by 3\n",
      "13 not divisible by 3\n",
      "14 not divisible by 3\n",
      "15 divisible by 3\n",
      "16 not divisible by 3\n",
      "17 not divisible by 3\n",
      "18 divisible by 3\n",
      "19 not divisible by 3\n",
      "20 not divisible by 3\n",
      "21 divisible by 3\n",
      "22 not divisible by 3\n",
      "23 not divisible by 3\n",
      "24 divisible by 3\n",
      "25 not divisible by 3\n"
     ]
    }
   ],
   "source": [
    "for i in l1:\n",
    "    if(i%3==0):\n",
    "        print(i,\"divisible by 3\")\n",
    "    else:\n",
    "        print(i,\"not divisible by 3\")"
   ]
  },
  {
   "cell_type": "code",
   "execution_count": 41,
   "id": "5d38c378",
   "metadata": {},
   "outputs": [
    {
     "data": {
      "text/plain": [
       "[64, 23.65, 'Tushar', (8+2j)]"
      ]
     },
     "execution_count": 41,
     "metadata": {},
     "output_type": "execute_result"
    }
   ],
   "source": [
    "l2=[64,8.96,\"Tushar\",(8+2j)]\n",
    "l2[1]=23.65 \n",
    "l2\n",
    "# lists are examples of mutable data types in which value of any element can be changed"
   ]
  },
  {
   "cell_type": "code",
   "execution_count": 42,
   "id": "e55ccadc",
   "metadata": {},
   "outputs": [
    {
     "ename": "TypeError",
     "evalue": "'tuple' object does not support item assignment",
     "output_type": "error",
     "traceback": [
      "\u001b[1;31m---------------------------------------------------------------------------\u001b[0m",
      "\u001b[1;31mTypeError\u001b[0m                                 Traceback (most recent call last)",
      "Cell \u001b[1;32mIn[42], line 2\u001b[0m\n\u001b[0;32m      1\u001b[0m t\u001b[38;5;241m=\u001b[39m(\u001b[38;5;241m64\u001b[39m,\u001b[38;5;241m8.96\u001b[39m,\u001b[38;5;124m\"\u001b[39m\u001b[38;5;124mTushar\u001b[39m\u001b[38;5;124m\"\u001b[39m,(\u001b[38;5;241m8\u001b[39m\u001b[38;5;241m+\u001b[39m\u001b[38;5;241m2\u001b[39mj))\n\u001b[1;32m----> 2\u001b[0m t[\u001b[38;5;241m1\u001b[39m]\u001b[38;5;241m=\u001b[39m\u001b[38;5;241m23.65\u001b[39m\n\u001b[0;32m      3\u001b[0m t\n",
      "\u001b[1;31mTypeError\u001b[0m: 'tuple' object does not support item assignment"
     ]
    }
   ],
   "source": [
    "t=(64,8.96,\"Tushar\",(8+2j))\n",
    "t[1]=23.65\n",
    "t\n",
    "# tuples are examples of immutable data types in which value of any element can not be changed"
   ]
  },
  {
   "cell_type": "code",
   "execution_count": null,
   "id": "e216c830",
   "metadata": {},
   "outputs": [],
   "source": []
  }
 ],
 "metadata": {
  "kernelspec": {
   "display_name": "Python 3 (ipykernel)",
   "language": "python",
   "name": "python3"
  },
  "language_info": {
   "codemirror_mode": {
    "name": "ipython",
    "version": 3
   },
   "file_extension": ".py",
   "mimetype": "text/x-python",
   "name": "python",
   "nbconvert_exporter": "python",
   "pygments_lexer": "ipython3",
   "version": "3.10.9"
  }
 },
 "nbformat": 4,
 "nbformat_minor": 5
}
